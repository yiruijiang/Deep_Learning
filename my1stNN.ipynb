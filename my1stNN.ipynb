{
 "cells": [
  {
   "cell_type": "code",
   "execution_count": 28,
   "metadata": {},
   "outputs": [
    {
     "name": "stdout",
     "output_type": "stream",
     "text": [
      "(50000, 28, 28) (50000,)\n"
     ]
    },
    {
     "data": {
      "image/png": "[encoded data removed]",
      "text/plain": [
       "<matplotlib.figure.Figure at 0x10bafb630>"
      ]
     },
     "metadata": {},
     "output_type": "display_data"
    }
   ],
   "source": [
    "from preprocessed_mnist import load_dataset\n",
    "X_train, y_train, X_val, y_val, X_test, y_test = load_dataset()\n",
    "print(X_train.shape, y_train.shape)\n",
    "import matplotlib.pyplot as plt\n",
    "%matplotlib inline\n",
    "plt.imshow(X_train[0], cmap=\"Greys\");"
   ]
  },
  {
   "cell_type": "code",
   "execution_count": 29,
   "metadata": {},
   "outputs": [],
   "source": [
    "# import libraries\n",
    "\n",
    "import tensorflow as tf\n",
    "import numpy as np\n",
    "import matplotlib.pyplot as plt\n"
   ]
  },
  {
   "cell_type": "code",
   "execution_count": 30,
   "metadata": {},
   "outputs": [
    {
     "name": "stdout",
     "output_type": "stream",
     "text": [
      "Training size X_t is set to be (784, 50000): \n",
      "Training size y_t is set to be (10, 50000): \n",
      "Validation size X_v is set to be (784, 10000): \n",
      "Validation size y_v is set to be (10, 10000): \n",
      "Test size X_t is set to be (784, 10000): \n",
      "Test size y_t is set to be (10, 10000): \n",
      "Ground Truth one hot vector is  [ 0.  0.  0.  0.  1.  0.  0.  0.  0.  0.]\n"
     ]
    },
    {
     "data": {
      "image/png": "[encoded data removed]",
      "text/plain": [
       "<matplotlib.figure.Figure at 0x119bda5c0>"
      ]
     },
     "metadata": {},
     "output_type": "display_data"
    }
   ],
   "source": [
    "# data preprocessing\n",
    "\n",
    "train_size = X_train.shape[0]\n",
    "validation_size = X_val.shape[0]\n",
    "test_size = X_test.shape[0]\n",
    "\n",
    "X_t = np.transpose(X_train.reshape((train_size, 28 * 28)))\n",
    "y_t = np.zeros((train_size, 10))\n",
    "y_t[np.arange(int(train_size)), y_train] = 1\n",
    "y_t = np.transpose(y_t)\n",
    "\n",
    "print(\"Training size X_t is set to be %s: \" % str(X_t.shape))\n",
    "print(\"Training size y_t is set to be %s: \" % str(y_t.shape))\n",
    "\n",
    "X_v = np.transpose(X_val.reshape((validation_size, 28 * 28)))\n",
    "y_v = np.zeros((validation_size, 10))\n",
    "y_v[np.arange(int(validation_size)), y_val] = 1\n",
    "y_v = np.transpose(y_v)\n",
    "print(\"Validation size X_v is set to be %s: \" % str(X_v.shape))\n",
    "print(\"Validation size y_v is set to be %s: \" % str(y_v.shape))\n",
    "\n",
    "X_te = np.transpose(X_test.reshape((test_size, 28 * 28)))\n",
    "y_te = np.zeros((validation_size, 10))\n",
    "y_te[np.arange(int(validation_size)), y_test] = 1\n",
    "y_te = np.transpose(y_te)\n",
    "\n",
    "print(\"Test size X_t is set to be %s: \" % str(X_te.shape))\n",
    "print(\"Test size y_t is set to be %s: \" % str(y_te.shape))\n"
   ]
  },
  {
   "cell_type": "code",
   "execution_count": 93,
   "metadata": {},
   "outputs": [],
   "source": [
    "# define placeholders\n",
    "\n",
    "X = tf.placeholder(shape = (784, None), dtype = tf.float32)\n",
    "y = tf.placeholder(shape = (10, None), dtype = tf.float32)\n"
   ]
  },
  {
   "cell_type": "code",
   "execution_count": 78,
   "metadata": {},
   "outputs": [],
   "source": [
    "# define variables using xavier initializer\n",
    "\n",
    "initializer = tf.contrib.layers.xavier_initializer()\n",
    "W1 = tf.Variable(initializer((300,784)))\n",
    "b1 = tf.Variable(1, dtype = tf.float32)\n",
    "\n",
    "W2 = tf.Variable(initializer((10,300)))\n",
    "b2 = tf.Variable(1, dtype = tf.float32)"
   ]
  },
  {
   "cell_type": "code",
   "execution_count": 79,
   "metadata": {},
   "outputs": [],
   "source": [
    "# forward propagation\n",
    "def forward_propagation(X):\n",
    "    Z1 = tf.add(tf.matmul(W1, X), b1)\n",
    "    A1 = tf.nn.sigmoid(Z1)\n",
    "    \n",
    "    Z2 = tf.add(tf.matmul(W2, A1), b2)   \n",
    "    y_hat = tf.nn.softmax(Z2, dim = 0)\n",
    "    return y_hat"
   ]
  },
  {
   "cell_type": "code",
   "execution_count": 80,
   "metadata": {},
   "outputs": [],
   "source": [
    "# define cost\n",
    "def calculate_cost(X, y):\n",
    "    y_hat = forward_propagation(X)\n",
    "    eplison = 1e-10\n",
    "    cost = - (tf.reduce_mean(tf.add(tf.multiply(y, tf.log(y_hat + eplison)) ,\\\n",
    "                                    tf.multiply(1 - y, tf.log(1 - y_hat + eplison)))))\n",
    "    return cost\n"
   ]
  },
  {
   "cell_type": "code",
   "execution_count": 81,
   "metadata": {},
   "outputs": [],
   "source": [
    "def predict_accuracy(X, y):\n",
    "    y_hat = forward_propagation(X)\n",
    "    match = tf.equal(tf.argmax(y), tf.argmax(y_hat))\n",
    "    percentage = tf.reduce_mean(tf.cast(match, tf.float32))\n",
    "    return percentage"
   ]
  },
  {
   "cell_type": "code",
   "execution_count": 88,
   "metadata": {},
   "outputs": [],
   "source": [
    "# define optimizer\n",
    "learning_rate = 0.0025\n",
    "cost = calculate_cost(X, y)\n",
    "pred = predict_accuracy(X, y)\n",
    "optimizer = tf.train.AdamOptimizer(learning_rate).minimize(cost)"
   ]
  },
  {
   "cell_type": "code",
   "execution_count": 89,
   "metadata": {},
   "outputs": [],
   "source": [
    "# define initializer\n",
    "init = tf.global_variables_initializer()\n",
    "iteration = 50\n",
    "batch_size = 500\n",
    "costs = []\n",
    "indices = []"
   ]
  },
  {
   "cell_type": "code",
   "execution_count": 92,
   "metadata": {},
   "outputs": [
    {
     "name": "stdout",
     "output_type": "stream",
     "text": [
      "The cost of the training set of the iteration 0 is 0.0557882\n",
      "The prediction accuracy on test data is 0.9126: \n",
      "The cost of the training set of the iteration 1 is 0.0437297\n",
      "The prediction accuracy on test data is 0.9271: \n",
      "The cost of the training set of the iteration 2 is 0.0369868\n",
      "The prediction accuracy on test data is 0.9365: \n",
      "The cost of the training set of the iteration 3 is 0.0320154\n",
      "The prediction accuracy on test data is 0.9432: \n",
      "The cost of the training set of the iteration 4 is 0.0280786\n",
      "The prediction accuracy on test data is 0.95: \n",
      "The cost of the training set of the iteration 5 is 0.0248219\n",
      "The prediction accuracy on test data is 0.9539: \n",
      "The cost of the training set of the iteration 6 is 0.0220565\n",
      "The prediction accuracy on test data is 0.9574: \n",
      "The cost of the training set of the iteration 7 is 0.0196862\n",
      "The prediction accuracy on test data is 0.9604: \n",
      "The cost of the training set of the iteration 8 is 0.0176363\n",
      "The prediction accuracy on test data is 0.9629: \n",
      "The cost of the training set of the iteration 9 is 0.0158414\n",
      "The prediction accuracy on test data is 0.9649: \n",
      "The cost of the training set of the iteration 10 is 0.0142508\n",
      "The prediction accuracy on test data is 0.9672: \n",
      "The cost of the training set of the iteration 11 is 0.0128253\n",
      "The prediction accuracy on test data is 0.9688: \n",
      "The cost of the training set of the iteration 12 is 0.0115361\n",
      "The prediction accuracy on test data is 0.9695: \n",
      "The cost of the training set of the iteration 13 is 0.0103656\n",
      "The prediction accuracy on test data is 0.9705: \n",
      "The cost of the training set of the iteration 14 is 0.00930864\n",
      "The prediction accuracy on test data is 0.9719: \n",
      "The cost of the training set of the iteration 15 is 0.00836685\n",
      "The prediction accuracy on test data is 0.9731: \n",
      "The cost of the training set of the iteration 16 is 0.00754168\n",
      "The prediction accuracy on test data is 0.9733: \n",
      "The cost of the training set of the iteration 17 is 0.00682831\n",
      "The prediction accuracy on test data is 0.9741: \n",
      "The cost of the training set of the iteration 18 is 0.00621657\n",
      "The prediction accuracy on test data is 0.974: \n",
      "The cost of the training set of the iteration 19 is 0.00569307\n",
      "The prediction accuracy on test data is 0.9744: \n",
      "The cost of the training set of the iteration 20 is 0.00524211\n",
      "The prediction accuracy on test data is 0.9746: \n",
      "The cost of the training set of the iteration 21 is 0.00484513\n",
      "The prediction accuracy on test data is 0.975: \n",
      "The cost of the training set of the iteration 22 is 0.00448004\n",
      "The prediction accuracy on test data is 0.9754: \n",
      "The cost of the training set of the iteration 23 is 0.00412208\n",
      "The prediction accuracy on test data is 0.9755: \n",
      "The cost of the training set of the iteration 24 is 0.00375196\n",
      "The prediction accuracy on test data is 0.9756: \n",
      "The cost of the training set of the iteration 25 is 0.00336981\n",
      "The prediction accuracy on test data is 0.9759: \n",
      "The cost of the training set of the iteration 26 is 0.00300144\n",
      "The prediction accuracy on test data is 0.9764: \n",
      "The cost of the training set of the iteration 27 is 0.00267914\n",
      "The prediction accuracy on test data is 0.9765: \n",
      "The cost of the training set of the iteration 28 is 0.00241868\n",
      "The prediction accuracy on test data is 0.9765: \n",
      "The cost of the training set of the iteration 29 is 0.00221839\n",
      "The prediction accuracy on test data is 0.9762: \n",
      "The cost of the training set of the iteration 30 is 0.00205675\n",
      "The prediction accuracy on test data is 0.9761: \n",
      "The cost of the training set of the iteration 31 is 0.00189734\n",
      "The prediction accuracy on test data is 0.9767: \n",
      "The cost of the training set of the iteration 32 is 0.00172443\n",
      "The prediction accuracy on test data is 0.9768: \n",
      "The cost of the training set of the iteration 33 is 0.00155472\n",
      "The prediction accuracy on test data is 0.977: \n",
      "The cost of the training set of the iteration 34 is 0.00140313\n",
      "The prediction accuracy on test data is 0.978: \n",
      "The cost of the training set of the iteration 35 is 0.00127614\n",
      "The prediction accuracy on test data is 0.9778: \n",
      "The cost of the training set of the iteration 36 is 0.00117594\n",
      "The prediction accuracy on test data is 0.9782: \n",
      "The cost of the training set of the iteration 37 is 0.00110293\n",
      "The prediction accuracy on test data is 0.9779: \n",
      "The cost of the training set of the iteration 38 is 0.00105545\n",
      "The prediction accuracy on test data is 0.9776: \n",
      "The cost of the training set of the iteration 39 is 0.00102665\n",
      "The prediction accuracy on test data is 0.9772: \n",
      "The cost of the training set of the iteration 40 is 0.00100198\n",
      "The prediction accuracy on test data is 0.9773: \n",
      "The cost of the training set of the iteration 41 is 0.000960809\n",
      "The prediction accuracy on test data is 0.9772: \n",
      "The cost of the training set of the iteration 42 is 0.000888303\n",
      "The prediction accuracy on test data is 0.9772: \n",
      "The cost of the training set of the iteration 43 is 0.000789067\n",
      "The prediction accuracy on test data is 0.9773: \n",
      "The cost of the training set of the iteration 44 is 0.00068319\n",
      "The prediction accuracy on test data is 0.9778: \n",
      "The cost of the training set of the iteration 45 is 0.00058903\n",
      "The prediction accuracy on test data is 0.9781: \n",
      "The cost of the training set of the iteration 46 is 0.000513459\n",
      "The prediction accuracy on test data is 0.9782: \n",
      "The cost of the training set of the iteration 47 is 0.000455133\n",
      "The prediction accuracy on test data is 0.9787: \n",
      "The cost of the training set of the iteration 48 is 0.000409928\n",
      "The prediction accuracy on test data is 0.9788: \n",
      "The cost of the training set of the iteration 49 is 0.000373702\n",
      "The prediction accuracy on test data is 0.9785: \n"
     ]
    },
    {
     "data": {
      "image/png": "[encoded data removed]",
      "text/plain": [
       "<matplotlib.figure.Figure at 0x11b198320>"
      ]
     },
     "metadata": {},
     "output_type": "display_data"
    }
   ],
   "source": [
    "with tf.Session() as sess:\n",
    "    sess.run(init)\n",
    "    total_batch = int(len(X_train) / batch_size) \n",
    "    for i in range(iteration):\n",
    "        for j in range(0, len(X_train), batch_size):\n",
    "            batch_x = X_t[:,j:j + batch_size]\n",
    "            batch_y = y_t[:,j:j + batch_size]\n",
    "            sess.run(optimizer, feed_dict={X: batch_x,y: batch_y})            \n",
    "        cost_i = sess.run(cost, feed_dict={X: X_t,y: y_t})\n",
    "        costs.append(cost_i)\n",
    "        indices.append(i)\n",
    "        pred_i = sess.run(pred, feed_dict={X: X_te,y: y_te})\n",
    "        print(\"The cost of the training set of the iteration %i is %s\" % (i, str(cost_i)))\n",
    "        print(\"The prediction accuracy on test data is %s: \"% (str(pred_i)))\n",
    "    plt.plot(indices, costs)"
   ]
  },
  {
   "cell_type": "code",
   "execution_count": null,
   "metadata": {},
   "outputs": [],
   "source": []
  }
 ],
 "metadata": {
  "kernelspec": {
   "display_name": "Python 3",
   "language": "python",
   "name": "python3"
  },
  "language_info": {
   "codemirror_mode": {
    "name": "ipython",
    "version": 3
   },
   "file_extension": ".py",
   "mimetype": "text/x-python",
   "name": "python",
   "nbconvert_exporter": "python",
   "pygments_lexer": "ipython3",
   "version": "3.6.4"
  }
 },
 "nbformat": 4,
 "nbformat_minor": 2
}
